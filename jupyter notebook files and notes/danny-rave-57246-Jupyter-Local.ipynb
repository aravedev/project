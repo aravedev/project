{
 "cells": [
  {
   "cell_type": "code",
   "execution_count": 119,
   "metadata": {
    "execution": {
     "iopub.execute_input": "2024-05-18T09:51:59.624429Z",
     "iopub.status.busy": "2024-05-18T09:51:59.624053Z",
     "iopub.status.idle": "2024-05-18T09:51:59.630999Z",
     "shell.execute_reply": "2024-05-18T09:51:59.629734Z",
     "shell.execute_reply.started": "2024-05-18T09:51:59.624400Z"
    }
   },
   "outputs": [],
   "source": [
    "import numpy as np\n",
    "import pandas as pd\n",
    "from sklearn.preprocessing import StandardScaler, LabelEncoder\n",
    "from sklearn.impute import SimpleImputer\n",
    "from sklearn.model_selection import train_test_split, GridSearchCV, RandomizedSearchCV\n",
    "from sklearn.svm import SVC\n",
    "from sklearn.pipeline import Pipeline\n",
    "from sklearn.metrics import accuracy_score\n",
    "import joblib\n"
   ]
  },
  {
   "cell_type": "code",
   "execution_count": 120,
   "metadata": {
    "execution": {
     "iopub.execute_input": "2024-05-18T09:51:59.633387Z",
     "iopub.status.busy": "2024-05-18T09:51:59.632983Z",
     "iopub.status.idle": "2024-05-18T09:52:00.616596Z",
     "shell.execute_reply": "2024-05-18T09:52:00.615316Z",
     "shell.execute_reply.started": "2024-05-18T09:51:59.633356Z"
    }
   },
   "outputs": [],
   "source": [
    "# Loading dataset\n",
    "credit = pd.read_csv(\"credit_scores.csv\",low_memory=False)\n",
    "df = credit.copy()"
   ]
  },
  {
   "cell_type": "markdown",
   "metadata": {},
   "source": [
    "### Dropping Columns: \n"
   ]
  },
  {
   "cell_type": "code",
   "execution_count": 121,
   "metadata": {
    "execution": {
     "iopub.execute_input": "2024-05-18T09:52:00.619089Z",
     "iopub.status.busy": "2024-05-18T09:52:00.618755Z",
     "iopub.status.idle": "2024-05-18T09:52:00.668629Z",
     "shell.execute_reply": "2024-05-18T09:52:00.667346Z",
     "shell.execute_reply.started": "2024-05-18T09:52:00.619061Z"
    }
   },
   "outputs": [
    {
     "data": {
      "text/html": [
       "<div>\n",
       "<style scoped>\n",
       "    .dataframe tbody tr th:only-of-type {\n",
       "        vertical-align: middle;\n",
       "    }\n",
       "\n",
       "    .dataframe tbody tr th {\n",
       "        vertical-align: top;\n",
       "    }\n",
       "\n",
       "    .dataframe thead th {\n",
       "        text-align: right;\n",
       "    }\n",
       "</style>\n",
       "<table border=\"1\" class=\"dataframe\">\n",
       "  <thead>\n",
       "    <tr style=\"text-align: right;\">\n",
       "      <th></th>\n",
       "      <th>Month</th>\n",
       "      <th>Age</th>\n",
       "      <th>Occupation</th>\n",
       "      <th>Annual_Income</th>\n",
       "      <th>Monthly_Inhand_Salary</th>\n",
       "      <th>Num_Bank_Accounts</th>\n",
       "      <th>Num_Credit_Card</th>\n",
       "      <th>Interest_Rate</th>\n",
       "      <th>Delay_from_due_date</th>\n",
       "      <th>Num_of_Delayed_Payment</th>\n",
       "      <th>...</th>\n",
       "      <th>Credit_Score</th>\n",
       "      <th>Count_Auto Loan</th>\n",
       "      <th>Count_Credit-Builder Loan</th>\n",
       "      <th>Count_Personal Loan</th>\n",
       "      <th>Count_Home Equity Loan</th>\n",
       "      <th>Count_Not Specified</th>\n",
       "      <th>Count_Mortgage Loan</th>\n",
       "      <th>Count_Student Loan</th>\n",
       "      <th>Count_Debt Consolidation Loan</th>\n",
       "      <th>Count_Payday Loan</th>\n",
       "    </tr>\n",
       "  </thead>\n",
       "  <tbody>\n",
       "    <tr>\n",
       "      <th>0</th>\n",
       "      <td>July</td>\n",
       "      <td>23.0</td>\n",
       "      <td>Scientist</td>\n",
       "      <td>19114.12</td>\n",
       "      <td>1824.843333</td>\n",
       "      <td>3.0</td>\n",
       "      <td>4.0</td>\n",
       "      <td>3.0</td>\n",
       "      <td>3.0</td>\n",
       "      <td>8</td>\n",
       "      <td>...</td>\n",
       "      <td>Good</td>\n",
       "      <td>1.0</td>\n",
       "      <td>1.0</td>\n",
       "      <td>1.0</td>\n",
       "      <td>1.0</td>\n",
       "      <td>0.0</td>\n",
       "      <td>0</td>\n",
       "      <td>0</td>\n",
       "      <td>0</td>\n",
       "      <td>0</td>\n",
       "    </tr>\n",
       "    <tr>\n",
       "      <th>1</th>\n",
       "      <td>February</td>\n",
       "      <td>28.0</td>\n",
       "      <td>Teacher</td>\n",
       "      <td>34847.84</td>\n",
       "      <td>3037.986667</td>\n",
       "      <td>2.0</td>\n",
       "      <td>4.0</td>\n",
       "      <td>6.0</td>\n",
       "      <td>7.0</td>\n",
       "      <td>1</td>\n",
       "      <td>...</td>\n",
       "      <td>Good</td>\n",
       "      <td>0.0</td>\n",
       "      <td>1.0</td>\n",
       "      <td>0.0</td>\n",
       "      <td>0.0</td>\n",
       "      <td>0.0</td>\n",
       "      <td>0</td>\n",
       "      <td>0</td>\n",
       "      <td>0</td>\n",
       "      <td>0</td>\n",
       "    </tr>\n",
       "    <tr>\n",
       "      <th>2</th>\n",
       "      <td>May</td>\n",
       "      <td>28.0</td>\n",
       "      <td>Teacher</td>\n",
       "      <td>34847.84</td>\n",
       "      <td>3037.986667</td>\n",
       "      <td>2.0</td>\n",
       "      <td>4.0</td>\n",
       "      <td>6.0</td>\n",
       "      <td>3.0</td>\n",
       "      <td>1</td>\n",
       "      <td>...</td>\n",
       "      <td>Good</td>\n",
       "      <td>0.0</td>\n",
       "      <td>1.0</td>\n",
       "      <td>0.0</td>\n",
       "      <td>0.0</td>\n",
       "      <td>0.0</td>\n",
       "      <td>0</td>\n",
       "      <td>0</td>\n",
       "      <td>0</td>\n",
       "      <td>0</td>\n",
       "    </tr>\n",
       "    <tr>\n",
       "      <th>3</th>\n",
       "      <td>June</td>\n",
       "      <td>28.0</td>\n",
       "      <td>Teacher</td>\n",
       "      <td>34847.84</td>\n",
       "      <td>3037.986667</td>\n",
       "      <td>2.0</td>\n",
       "      <td>4.0</td>\n",
       "      <td>6.0</td>\n",
       "      <td>3.0</td>\n",
       "      <td>0</td>\n",
       "      <td>...</td>\n",
       "      <td>Good</td>\n",
       "      <td>0.0</td>\n",
       "      <td>1.0</td>\n",
       "      <td>0.0</td>\n",
       "      <td>0.0</td>\n",
       "      <td>0.0</td>\n",
       "      <td>0</td>\n",
       "      <td>0</td>\n",
       "      <td>0</td>\n",
       "      <td>0</td>\n",
       "    </tr>\n",
       "    <tr>\n",
       "      <th>4</th>\n",
       "      <td>August</td>\n",
       "      <td>28.0</td>\n",
       "      <td>Teacher</td>\n",
       "      <td>34847.84</td>\n",
       "      <td>3037.986667</td>\n",
       "      <td>2.0</td>\n",
       "      <td>4.0</td>\n",
       "      <td>6.0</td>\n",
       "      <td>3.0</td>\n",
       "      <td>4</td>\n",
       "      <td>...</td>\n",
       "      <td>Good</td>\n",
       "      <td>0.0</td>\n",
       "      <td>1.0</td>\n",
       "      <td>0.0</td>\n",
       "      <td>0.0</td>\n",
       "      <td>0.0</td>\n",
       "      <td>0</td>\n",
       "      <td>0</td>\n",
       "      <td>0</td>\n",
       "      <td>0</td>\n",
       "    </tr>\n",
       "  </tbody>\n",
       "</table>\n",
       "<p>5 rows × 31 columns</p>\n",
       "</div>"
      ],
      "text/plain": [
       "      Month   Age Occupation  Annual_Income  Monthly_Inhand_Salary  \\\n",
       "0      July  23.0  Scientist       19114.12            1824.843333   \n",
       "1  February  28.0    Teacher       34847.84            3037.986667   \n",
       "2       May  28.0    Teacher       34847.84            3037.986667   \n",
       "3      June  28.0    Teacher       34847.84            3037.986667   \n",
       "4    August  28.0    Teacher       34847.84            3037.986667   \n",
       "\n",
       "   Num_Bank_Accounts  Num_Credit_Card  Interest_Rate  Delay_from_due_date  \\\n",
       "0                3.0              4.0            3.0                  3.0   \n",
       "1                2.0              4.0            6.0                  7.0   \n",
       "2                2.0              4.0            6.0                  3.0   \n",
       "3                2.0              4.0            6.0                  3.0   \n",
       "4                2.0              4.0            6.0                  3.0   \n",
       "\n",
       "   Num_of_Delayed_Payment  ...  Credit_Score  Count_Auto Loan  \\\n",
       "0                       8  ...          Good              1.0   \n",
       "1                       1  ...          Good              0.0   \n",
       "2                       1  ...          Good              0.0   \n",
       "3                       0  ...          Good              0.0   \n",
       "4                       4  ...          Good              0.0   \n",
       "\n",
       "  Count_Credit-Builder Loan  Count_Personal Loan  Count_Home Equity Loan  \\\n",
       "0                       1.0                  1.0                     1.0   \n",
       "1                       1.0                  0.0                     0.0   \n",
       "2                       1.0                  0.0                     0.0   \n",
       "3                       1.0                  0.0                     0.0   \n",
       "4                       1.0                  0.0                     0.0   \n",
       "\n",
       "   Count_Not Specified Count_Mortgage Loan  Count_Student Loan  \\\n",
       "0                  0.0                   0                   0   \n",
       "1                  0.0                   0                   0   \n",
       "2                  0.0                   0                   0   \n",
       "3                  0.0                   0                   0   \n",
       "4                  0.0                   0                   0   \n",
       "\n",
       "   Count_Debt Consolidation Loan Count_Payday Loan  \n",
       "0                              0                 0  \n",
       "1                              0                 0  \n",
       "2                              0                 0  \n",
       "3                              0                 0  \n",
       "4                              0                 0  \n",
       "\n",
       "[5 rows x 31 columns]"
      ]
     },
     "execution_count": 121,
     "metadata": {},
     "output_type": "execute_result"
    }
   ],
   "source": [
    "delete_columns = [\"Name\", \"SSN\", \"ID\", \"Customer_ID\"]\n",
    "df.drop(delete_columns, axis=1, inplace=True)\n",
    "df.head()"
   ]
  },
  {
   "cell_type": "code",
   "execution_count": 122,
   "metadata": {
    "execution": {
     "iopub.execute_input": "2024-05-18T09:52:00.670584Z",
     "iopub.status.busy": "2024-05-18T09:52:00.670035Z",
     "iopub.status.idle": "2024-05-18T09:52:00.765046Z",
     "shell.execute_reply": "2024-05-18T09:52:00.763933Z",
     "shell.execute_reply.started": "2024-05-18T09:52:00.670543Z"
    }
   },
   "outputs": [
    {
     "name": "stdout",
     "output_type": "stream",
     "text": [
      "<class 'pandas.core.frame.DataFrame'>\n",
      "RangeIndex: 33402 entries, 0 to 33401\n",
      "Data columns (total 31 columns):\n",
      " #   Column                         Non-Null Count  Dtype  \n",
      "---  ------                         --------------  -----  \n",
      " 0   Month                          33400 non-null  object \n",
      " 1   Age                            33400 non-null  float64\n",
      " 2   Occupation                     33400 non-null  object \n",
      " 3   Annual_Income                  33402 non-null  float64\n",
      " 4   Monthly_Inhand_Salary          33402 non-null  float64\n",
      " 5   Num_Bank_Accounts              33401 non-null  float64\n",
      " 6   Num_Credit_Card                33401 non-null  float64\n",
      " 7   Interest_Rate                  33401 non-null  float64\n",
      " 8   Delay_from_due_date            33399 non-null  float64\n",
      " 9   Num_of_Delayed_Payment         33402 non-null  int64  \n",
      " 10  Changed_Credit_Limit           33401 non-null  float64\n",
      " 11  Num_Credit_Inquiries           33399 non-null  float64\n",
      " 12  Credit_Mix                     33402 non-null  object \n",
      " 13  Outstanding_Debt               33402 non-null  float64\n",
      " 14  Credit_Utilization_Ratio       33402 non-null  float64\n",
      " 15  Credit_History_Age             33399 non-null  float64\n",
      " 16  Payment_of_Min_Amount          33402 non-null  object \n",
      " 17  Total_EMI_per_month            33398 non-null  float64\n",
      " 18  Amount_invested_monthly        33402 non-null  float64\n",
      " 19  Payment_Behaviour              33401 non-null  object \n",
      " 20  Monthly_Balance                33401 non-null  float64\n",
      " 21  Credit_Score                   33402 non-null  object \n",
      " 22  Count_Auto Loan                33401 non-null  float64\n",
      " 23  Count_Credit-Builder Loan      33400 non-null  float64\n",
      " 24  Count_Personal Loan            33400 non-null  float64\n",
      " 25  Count_Home Equity Loan         33401 non-null  float64\n",
      " 26  Count_Not Specified            33398 non-null  float64\n",
      " 27  Count_Mortgage Loan            33402 non-null  int64  \n",
      " 28  Count_Student Loan             33402 non-null  int64  \n",
      " 29  Count_Debt Consolidation Loan  33402 non-null  int64  \n",
      " 30  Count_Payday Loan              33402 non-null  int64  \n",
      "dtypes: float64(20), int64(5), object(6)\n",
      "memory usage: 7.9+ MB\n"
     ]
    }
   ],
   "source": [
    "df.info()"
   ]
  },
  {
   "cell_type": "markdown",
   "metadata": {},
   "source": [
    "### Data Preprocessing: Dealing with wrong types"
   ]
  },
  {
   "cell_type": "code",
   "execution_count": 123,
   "metadata": {
    "execution": {
     "iopub.execute_input": "2024-05-18T09:52:00.768673Z",
     "iopub.status.busy": "2024-05-18T09:52:00.768339Z",
     "iopub.status.idle": "2024-05-18T09:52:00.842305Z",
     "shell.execute_reply": "2024-05-18T09:52:00.841062Z",
     "shell.execute_reply.started": "2024-05-18T09:52:00.768647Z"
    }
   },
   "outputs": [
    {
     "name": "stdout",
     "output_type": "stream",
     "text": [
      "Everyting is ok\n",
      "Everyting is ok\n",
      "Everyting is ok\n",
      "Everyting is ok\n",
      "Everyting is ok\n",
      "Everyting is ok\n",
      "Everyting is ok\n",
      "Everyting is ok\n",
      "Everyting is ok\n",
      "Everyting is ok\n",
      "Everyting is ok\n",
      "Everyting is ok\n",
      "Everyting is ok\n",
      "Everyting is ok\n",
      "Everyting is ok\n",
      "Everyting is ok\n",
      "Everyting is ok\n",
      "Everyting is ok\n",
      "Everyting is ok\n",
      "Everyting is ok\n",
      "Everyting is ok\n",
      "Everyting is ok\n",
      "Everyting is ok\n",
      "Everyting is ok\n",
      "Everyting is ok\n",
      "Everyting is ok\n"
     ]
    }
   ],
   "source": [
    "# Data Preprocessing: There are features with incorrect format.\n",
    "\n",
    "incorrect_format = [ \n",
    "               'Age',\n",
    "               'Annual_Income',\n",
    "                'Monthly_Inhand_Salary',\n",
    "                'Num_Bank_Accounts',\n",
    "                'Num_Credit_Card',\n",
    "                'Interest_Rate',\n",
    "                'Delay_from_due_date',\n",
    "               'Num_of_Delayed_Payment',\n",
    "                'Changed_Credit_Limit', \n",
    "               'Outstanding_Debt',\n",
    "               'Amount_invested_monthly',\n",
    "               'Monthly_Balance',\n",
    "                'Num_Credit_Inquiries',\n",
    "                'Credit_Utilization_Ratio',\n",
    "                'Credit_History_Age',\n",
    "                'Total_EMI_per_month',\n",
    "                'Amount_invested_monthly',\n",
    "                'Count_Auto Loan',\n",
    "                'Count_Credit-Builder Loan',\n",
    "                'Count_Personal Loan',\n",
    "                'Count_Home Equity Loan',\n",
    "                'Count_Not Specified',\n",
    "                'Count_Mortgage Loan',\n",
    "                'Count_Student Loan',\n",
    "                'Count_Debt Consolidation Loan',\n",
    "                'Count_Payday Loan'\n",
    "                \n",
    "\n",
    "]\n",
    "\n",
    "# Checking which feature contains '_' as entry value\n",
    "for col in incorrect_format:\n",
    "    if df[col][df[col] == '_'].any():\n",
    "        print(f\"Column {col}: contains '_' \")\n",
    "    else:\n",
    "        print('Everyting is ok')\n"
   ]
  },
  {
   "cell_type": "markdown",
   "metadata": {},
   "source": [
    "### Selecting Numerical and Categorical Data"
   ]
  },
  {
   "cell_type": "code",
   "execution_count": 124,
   "metadata": {
    "execution": {
     "iopub.execute_input": "2024-05-18T09:52:01.304881Z",
     "iopub.status.busy": "2024-05-18T09:52:01.304518Z",
     "iopub.status.idle": "2024-05-18T09:52:01.340299Z",
     "shell.execute_reply": "2024-05-18T09:52:01.338992Z",
     "shell.execute_reply.started": "2024-05-18T09:52:01.304816Z"
    }
   },
   "outputs": [],
   "source": [
    "numerical_format=['float64','int']\n",
    "numerical_data = df.select_dtypes(include=numerical_format).columns\n",
    "categorical_data = df.select_dtypes(include='object').columns"
   ]
  },
  {
   "cell_type": "code",
   "execution_count": 125,
   "metadata": {
    "execution": {
     "iopub.execute_input": "2024-05-18T09:52:01.341860Z",
     "iopub.status.busy": "2024-05-18T09:52:01.341538Z",
     "iopub.status.idle": "2024-05-18T09:52:01.348642Z",
     "shell.execute_reply": "2024-05-18T09:52:01.347504Z",
     "shell.execute_reply.started": "2024-05-18T09:52:01.341831Z"
    }
   },
   "outputs": [
    {
     "name": "stdout",
     "output_type": "stream",
     "text": [
      "Numerical Data\n",
      "Index(['Age', 'Annual_Income', 'Monthly_Inhand_Salary', 'Num_Bank_Accounts',\n",
      "       'Num_Credit_Card', 'Interest_Rate', 'Delay_from_due_date',\n",
      "       'Num_of_Delayed_Payment', 'Changed_Credit_Limit',\n",
      "       'Num_Credit_Inquiries', 'Outstanding_Debt', 'Credit_Utilization_Ratio',\n",
      "       'Credit_History_Age', 'Total_EMI_per_month', 'Amount_invested_monthly',\n",
      "       'Monthly_Balance', 'Count_Auto Loan', 'Count_Credit-Builder Loan',\n",
      "       'Count_Personal Loan', 'Count_Home Equity Loan', 'Count_Not Specified',\n",
      "       'Count_Mortgage Loan', 'Count_Student Loan',\n",
      "       'Count_Debt Consolidation Loan', 'Count_Payday Loan'],\n",
      "      dtype='object')\n",
      "\n",
      "Categorical Data\n",
      "\n",
      "Index(['Month', 'Occupation', 'Credit_Mix', 'Payment_of_Min_Amount',\n",
      "       'Payment_Behaviour', 'Credit_Score'],\n",
      "      dtype='object')\n"
     ]
    }
   ],
   "source": [
    "print(\"Numerical Data\")\n",
    "print(numerical_data)\n",
    "print(\"\")\n",
    "print(\"Categorical Data\")\n",
    "print(\"\")\n",
    "print(categorical_data)"
   ]
  },
  {
   "cell_type": "code",
   "execution_count": 126,
   "metadata": {
    "execution": {
     "iopub.execute_input": "2024-05-18T09:52:01.353574Z",
     "iopub.status.busy": "2024-05-18T09:52:01.353161Z",
     "iopub.status.idle": "2024-05-18T09:52:01.375615Z",
     "shell.execute_reply": "2024-05-18T09:52:01.374321Z",
     "shell.execute_reply.started": "2024-05-18T09:52:01.353543Z"
    }
   },
   "outputs": [
    {
     "name": "stdout",
     "output_type": "stream",
     "text": [
      "Age : Min 14.0 - Max 95.0 - 32.963502994011975\n",
      "Annual_Income : Min 7005.93 - Max 24198062.0 - 180449.1165729597\n",
      "Monthly_Inhand_Salary : Min 303.6454166666666 - Max 15204.633333333331 - 4011.3346753538767\n",
      "Num_Bank_Accounts : Min -1.0 - Max 1798.0 - 17.670518846741114\n",
      "Num_Credit_Card : Min 0.0 - Max 1499.0 - 22.108409927846473\n",
      "Interest_Rate : Min 1.0 - Max 5797.0 - 77.57309661387383\n",
      "Delay_from_due_date : Min -5.0 - Max 67.0 - 22.085661247342735\n",
      "Num_of_Delayed_Payment : Min 0 - Max 4397 - 32.5789773067481\n",
      "Changed_Credit_Limit : Min -6.44 - Max 36.29 - 10.788655728870394\n",
      "Num_Credit_Inquiries : Min 0.0 - Max 2597.0 - 28.006347495433996\n",
      "Outstanding_Debt : Min 0.23 - Max 4998.07 - 1510.6508349799412\n",
      "Credit_Utilization_Ratio : Min 20.88125003902868 - Max 49.56451934738699 - 32.22058395632018\n",
      "Credit_History_Age : Min 0.0 - Max 404.0 - 193.59627533758496\n",
      "Total_EMI_per_month : Min 4.4628374669131645 - Max 82204.0 - 1403.5067912154855\n",
      "Amount_invested_monthly : Min 0.0 - Max 10000.0 - 614.0763433835015\n",
      "Monthly_Balance : Min 0.4534564914083034 - Max 1552.9460937445635 - 381.59373833367243\n",
      "Count_Auto Loan : Min 0.0 - Max 4.0 - 0.42262207718331785\n",
      "Count_Credit-Builder Loan : Min 0.0 - Max 4.0 - 0.4532934131736527\n",
      "Count_Personal Loan : Min 0.0 - Max 4.0 - 0.4406287425149701\n",
      "Count_Home Equity Loan : Min 0.0 - Max 5.0 - 0.44211251160144904\n",
      "Count_Not Specified : Min 0.0 - Max 4.0 - 0.44275106293790045\n",
      "Count_Mortgage Loan : Min 0 - Max 5 - 0.43859649122807015\n",
      "Count_Student Loan : Min 0 - Max 5 - 0.4400335309262918\n",
      "Count_Debt Consolidation Loan : Min 0 - Max 5 - 0.43359679061134065\n",
      "Count_Payday Loan : Min 0 - Max 5 - 0.4569187473803964\n"
     ]
    }
   ],
   "source": [
    "# Checking the min, max and mean values for each Numerical category\n",
    "for col in numerical_data:\n",
    "    print(f\"{col} : Min {df[col].min()} - Max {df[col].max()} - {df[col].mean()}\") \n",
    "    "
   ]
  },
  {
   "cell_type": "code",
   "execution_count": 128,
   "metadata": {
    "execution": {
     "iopub.execute_input": "2024-05-18T09:52:01.377558Z",
     "iopub.status.busy": "2024-05-18T09:52:01.376831Z",
     "iopub.status.idle": "2024-05-18T09:52:01.458121Z",
     "shell.execute_reply": "2024-05-18T09:52:01.456872Z",
     "shell.execute_reply.started": "2024-05-18T09:52:01.377523Z"
    }
   },
   "outputs": [],
   "source": [
    "# Dropping values\n",
    "# Age\n",
    "df.drop(df[df.Age < 0].index, inplace=True)\n",
    "\n",
    "# Num_Bank_Accounts\n",
    "df.drop(df[df[\"Num_Bank_Accounts\"] < 0].index, inplace=True)\n",
    "\n",
    "# Reseting index values\n",
    "df.reset_index(drop=True, inplace=True)"
   ]
  },
  {
   "cell_type": "code",
   "execution_count": 133,
   "metadata": {
    "execution": {
     "iopub.execute_input": "2024-05-18T09:52:01.460319Z",
     "iopub.status.busy": "2024-05-18T09:52:01.459590Z",
     "iopub.status.idle": "2024-05-18T09:52:01.510963Z",
     "shell.execute_reply": "2024-05-18T09:52:01.509803Z",
     "shell.execute_reply.started": "2024-05-18T09:52:01.460275Z"
    }
   },
   "outputs": [
    {
     "name": "stdout",
     "output_type": "stream",
     "text": [
      "['Age', 'Num_Bank_Accounts', 'Num_Credit_Card', 'Interest_Rate', 'Delay_from_due_date', 'Changed_Credit_Limit', 'Num_Credit_Inquiries', 'Credit_History_Age', 'Total_EMI_per_month', 'Monthly_Balance', 'Count_Auto Loan', 'Count_Credit-Builder Loan', 'Count_Personal Loan', 'Count_Home Equity Loan', 'Count_Not Specified']\n"
     ]
    }
   ],
   "source": [
    "# Checking Null Values\n",
    "features_null_values = []\n",
    "for col in numerical_data:\n",
    "    if df[col].isnull().sum() !=0:\n",
    "        features_null_values.append(col)\n",
    "        \n",
    "#####\n",
    "print(features_null_values)\n"
   ]
  },
  {
   "cell_type": "markdown",
   "metadata": {},
   "source": [
    "### Replacing NaN Values from Numerical Columns with Mean."
   ]
  },
  {
   "cell_type": "code",
   "execution_count": 135,
   "metadata": {
    "execution": {
     "iopub.execute_input": "2024-05-18T09:52:01.513508Z",
     "iopub.status.busy": "2024-05-18T09:52:01.512842Z",
     "iopub.status.idle": "2024-05-18T09:52:01.542198Z",
     "shell.execute_reply": "2024-05-18T09:52:01.541034Z",
     "shell.execute_reply.started": "2024-05-18T09:52:01.513463Z"
    }
   },
   "outputs": [],
   "source": [
    "# Checking NAN values and replacing them.\n",
    "\n",
    "imputer = SimpleImputer(strategy='mean')\n",
    "\n",
    "# Making the corrections and saving the values in a Df.\n",
    "imputed_num = pd.DataFrame(imputer.fit_transform(df[features_null_values]),\n",
    "                          columns=features_null_values)\n",
    "\n",
    "# Updating df with imputed values\n",
    "df[features_null_values] = imputed_num"
   ]
  },
  {
   "cell_type": "code",
   "execution_count": 137,
   "metadata": {
    "execution": {
     "iopub.execute_input": "2024-05-18T09:52:01.543722Z",
     "iopub.status.busy": "2024-05-18T09:52:01.543398Z",
     "iopub.status.idle": "2024-05-18T09:52:01.589697Z",
     "shell.execute_reply": "2024-05-18T09:52:01.588611Z",
     "shell.execute_reply.started": "2024-05-18T09:52:01.543694Z"
    }
   },
   "outputs": [
    {
     "name": "stdout",
     "output_type": "stream",
     "text": [
      "Month                            2\n",
      "Age                              0\n",
      "Occupation                       2\n",
      "Annual_Income                    0\n",
      "Monthly_Inhand_Salary            0\n",
      "Num_Bank_Accounts                0\n",
      "Num_Credit_Card                  0\n",
      "Interest_Rate                    0\n",
      "Delay_from_due_date              0\n",
      "Num_of_Delayed_Payment           0\n",
      "Changed_Credit_Limit             0\n",
      "Num_Credit_Inquiries             0\n",
      "Credit_Mix                       0\n",
      "Outstanding_Debt                 0\n",
      "Credit_Utilization_Ratio         0\n",
      "Credit_History_Age               0\n",
      "Payment_of_Min_Amount            0\n",
      "Total_EMI_per_month              0\n",
      "Amount_invested_monthly          0\n",
      "Payment_Behaviour                1\n",
      "Monthly_Balance                  0\n",
      "Credit_Score                     0\n",
      "Count_Auto Loan                  0\n",
      "Count_Credit-Builder Loan        0\n",
      "Count_Personal Loan              0\n",
      "Count_Home Equity Loan           0\n",
      "Count_Not Specified              0\n",
      "Count_Mortgage Loan              0\n",
      "Count_Student Loan               0\n",
      "Count_Debt Consolidation Loan    0\n",
      "Count_Payday Loan                0\n",
      "dtype: int64\n"
     ]
    }
   ],
   "source": [
    "# Checking corrections\n",
    "print(df.isnull().sum())"
   ]
  },
  {
   "cell_type": "markdown",
   "metadata": {},
   "source": [
    "## **Categorical columns:** Checking data and doing corrections"
   ]
  },
  {
   "cell_type": "code",
   "execution_count": 140,
   "metadata": {
    "execution": {
     "iopub.execute_input": "2024-05-18T09:52:01.630843Z",
     "iopub.status.busy": "2024-05-18T09:52:01.630417Z",
     "iopub.status.idle": "2024-05-18T09:52:01.646304Z",
     "shell.execute_reply": "2024-05-18T09:52:01.645125Z",
     "shell.execute_reply.started": "2024-05-18T09:52:01.630801Z"
    }
   },
   "outputs": [
    {
     "data": {
      "text/plain": [
       "Credit_Mix\n",
       "Standard    15514\n",
       "Good         8948\n",
       "Bad          8935\n",
       "Name: count, dtype: int64"
      ]
     },
     "execution_count": 140,
     "metadata": {},
     "output_type": "execute_result"
    }
   ],
   "source": [
    "# Checking if Credit_Mix contains '_' \n",
    "df[\"Credit_Mix\"].value_counts() "
   ]
  },
  {
   "cell_type": "code",
   "execution_count": 142,
   "metadata": {
    "execution": {
     "iopub.execute_input": "2024-05-18T09:52:01.708935Z",
     "iopub.status.busy": "2024-05-18T09:52:01.708284Z",
     "iopub.status.idle": "2024-05-18T09:52:01.723805Z",
     "shell.execute_reply": "2024-05-18T09:52:01.723000Z",
     "shell.execute_reply.started": "2024-05-18T09:52:01.708897Z"
    }
   },
   "outputs": [
    {
     "data": {
      "text/plain": [
       "Payment_Behaviour\n",
       "Low_spent_Small_value_payments      9175\n",
       "High_spent_Medium_value_payments    6407\n",
       "Low_spent_Medium_value_payments     4938\n",
       "High_spent_Large_value_payments     4926\n",
       "High_spent_Small_value_payments     4105\n",
       "Low_spent_Large_value_payments      3845\n",
       "Name: count, dtype: int64"
      ]
     },
     "execution_count": 142,
     "metadata": {},
     "output_type": "execute_result"
    }
   ],
   "source": [
    "df[\"Payment_Behaviour\"].value_counts()  "
   ]
  },
  {
   "cell_type": "code",
   "execution_count": 143,
   "metadata": {
    "execution": {
     "iopub.execute_input": "2024-05-18T09:52:01.742565Z",
     "iopub.status.busy": "2024-05-18T09:52:01.741666Z",
     "iopub.status.idle": "2024-05-18T09:52:01.760208Z",
     "shell.execute_reply": "2024-05-18T09:52:01.758065Z",
     "shell.execute_reply.started": "2024-05-18T09:52:01.742521Z"
    }
   },
   "outputs": [
    {
     "data": {
      "text/plain": [
       "Credit_Score\n",
       "Standard    17755\n",
       "Poor        10399\n",
       "Good         5243\n",
       "Name: count, dtype: int64"
      ]
     },
     "execution_count": 143,
     "metadata": {},
     "output_type": "execute_result"
    }
   ],
   "source": [
    "# Checking our target values.\n",
    "df[\"Credit_Score\"].value_counts()"
   ]
  },
  {
   "cell_type": "code",
   "execution_count": 144,
   "metadata": {
    "execution": {
     "iopub.execute_input": "2024-05-18T09:52:01.762426Z",
     "iopub.status.busy": "2024-05-18T09:52:01.761808Z",
     "iopub.status.idle": "2024-05-18T09:52:01.813178Z",
     "shell.execute_reply": "2024-05-18T09:52:01.812404Z",
     "shell.execute_reply.started": "2024-05-18T09:52:01.762390Z"
    }
   },
   "outputs": [
    {
     "name": "stdout",
     "output_type": "stream",
     "text": [
      "<class 'pandas.core.frame.DataFrame'>\n",
      "RangeIndex: 33397 entries, 0 to 33396\n",
      "Data columns (total 31 columns):\n",
      " #   Column                         Non-Null Count  Dtype  \n",
      "---  ------                         --------------  -----  \n",
      " 0   Month                          33395 non-null  object \n",
      " 1   Age                            33397 non-null  float64\n",
      " 2   Occupation                     33395 non-null  object \n",
      " 3   Annual_Income                  33397 non-null  float64\n",
      " 4   Monthly_Inhand_Salary          33397 non-null  float64\n",
      " 5   Num_Bank_Accounts              33397 non-null  float64\n",
      " 6   Num_Credit_Card                33397 non-null  float64\n",
      " 7   Interest_Rate                  33397 non-null  float64\n",
      " 8   Delay_from_due_date            33397 non-null  float64\n",
      " 9   Num_of_Delayed_Payment         33397 non-null  int64  \n",
      " 10  Changed_Credit_Limit           33397 non-null  float64\n",
      " 11  Num_Credit_Inquiries           33397 non-null  float64\n",
      " 12  Credit_Mix                     33397 non-null  object \n",
      " 13  Outstanding_Debt               33397 non-null  float64\n",
      " 14  Credit_Utilization_Ratio       33397 non-null  float64\n",
      " 15  Credit_History_Age             33397 non-null  float64\n",
      " 16  Payment_of_Min_Amount          33397 non-null  object \n",
      " 17  Total_EMI_per_month            33397 non-null  float64\n",
      " 18  Amount_invested_monthly        33397 non-null  float64\n",
      " 19  Payment_Behaviour              33396 non-null  object \n",
      " 20  Monthly_Balance                33397 non-null  float64\n",
      " 21  Credit_Score                   33397 non-null  object \n",
      " 22  Count_Auto Loan                33397 non-null  float64\n",
      " 23  Count_Credit-Builder Loan      33397 non-null  float64\n",
      " 24  Count_Personal Loan            33397 non-null  float64\n",
      " 25  Count_Home Equity Loan         33397 non-null  float64\n",
      " 26  Count_Not Specified            33397 non-null  float64\n",
      " 27  Count_Mortgage Loan            33397 non-null  int64  \n",
      " 28  Count_Student Loan             33397 non-null  int64  \n",
      " 29  Count_Debt Consolidation Loan  33397 non-null  int64  \n",
      " 30  Count_Payday Loan              33397 non-null  int64  \n",
      "dtypes: float64(20), int64(5), object(6)\n",
      "memory usage: 7.9+ MB\n"
     ]
    }
   ],
   "source": [
    "df.info()"
   ]
  },
  {
   "cell_type": "code",
   "execution_count": 145,
   "metadata": {
    "execution": {
     "iopub.execute_input": "2024-05-18T09:52:01.814935Z",
     "iopub.status.busy": "2024-05-18T09:52:01.814603Z",
     "iopub.status.idle": "2024-05-18T09:52:01.828540Z",
     "shell.execute_reply": "2024-05-18T09:52:01.827461Z",
     "shell.execute_reply.started": "2024-05-18T09:52:01.814906Z"
    }
   },
   "outputs": [
    {
     "data": {
      "text/plain": [
       "Month\n",
       "January     4288\n",
       "March       4222\n",
       "July        4213\n",
       "August      4181\n",
       "June        4143\n",
       "May         4136\n",
       "April       4110\n",
       "February    4102\n",
       "Name: count, dtype: int64"
      ]
     },
     "execution_count": 145,
     "metadata": {},
     "output_type": "execute_result"
    }
   ],
   "source": [
    "df[\"Month\"].value_counts()"
   ]
  },
  {
   "cell_type": "code",
   "execution_count": 146,
   "metadata": {
    "execution": {
     "iopub.execute_input": "2024-05-18T09:52:01.830810Z",
     "iopub.status.busy": "2024-05-18T09:52:01.830154Z",
     "iopub.status.idle": "2024-05-18T09:52:01.979385Z",
     "shell.execute_reply": "2024-05-18T09:52:01.978055Z",
     "shell.execute_reply.started": "2024-05-18T09:52:01.830774Z"
    }
   },
   "outputs": [
    {
     "name": "stdout",
     "output_type": "stream",
     "text": [
      "['Month', 'Occupation', 'Payment_Behaviour']\n"
     ]
    }
   ],
   "source": [
    "# Selecting Categorical features\n",
    "categorical_data\n",
    "\n",
    "# for loop with NAN values:\n",
    "features_null_values_cat = []\n",
    "for col in categorical_data:\n",
    "    if df[col].isnull().sum() !=0:\n",
    "        features_null_values_cat.append(col)\n",
    "        \n",
    "#####\n",
    "print(features_null_values_cat)\n"
   ]
  },
  {
   "cell_type": "code",
   "execution_count": 147,
   "metadata": {},
   "outputs": [],
   "source": [
    "# 'Credit_Score' is our target value\n",
    "\n",
    "# Replacing NaN with most frequent values\n",
    "imputer = SimpleImputer(strategy='most_frequent')\n",
    "imputed_cat = pd.DataFrame(\n",
    "                            imputer.fit_transform(df[features_null_values_cat]),\n",
    "                            columns=features_null_values_cat\n",
    "                          )"
   ]
  },
  {
   "cell_type": "code",
   "execution_count": 148,
   "metadata": {
    "execution": {
     "iopub.execute_input": "2024-05-18T09:52:01.981471Z",
     "iopub.status.busy": "2024-05-18T09:52:01.981114Z",
     "iopub.status.idle": "2024-05-18T09:52:01.993633Z",
     "shell.execute_reply": "2024-05-18T09:52:01.992651Z",
     "shell.execute_reply.started": "2024-05-18T09:52:01.981444Z"
    }
   },
   "outputs": [],
   "source": [
    "df[features_null_values_cat] = imputed_cat"
   ]
  },
  {
   "cell_type": "code",
   "execution_count": 149,
   "metadata": {
    "execution": {
     "iopub.execute_input": "2024-05-18T09:52:01.998948Z",
     "iopub.status.busy": "2024-05-18T09:52:01.998624Z",
     "iopub.status.idle": "2024-05-18T09:52:02.049931Z",
     "shell.execute_reply": "2024-05-18T09:52:02.048645Z",
     "shell.execute_reply.started": "2024-05-18T09:52:01.998922Z"
    }
   },
   "outputs": [
    {
     "data": {
      "text/plain": [
       "Month                            0\n",
       "Age                              0\n",
       "Occupation                       0\n",
       "Annual_Income                    0\n",
       "Monthly_Inhand_Salary            0\n",
       "Num_Bank_Accounts                0\n",
       "Num_Credit_Card                  0\n",
       "Interest_Rate                    0\n",
       "Delay_from_due_date              0\n",
       "Num_of_Delayed_Payment           0\n",
       "Changed_Credit_Limit             0\n",
       "Num_Credit_Inquiries             0\n",
       "Credit_Mix                       0\n",
       "Outstanding_Debt                 0\n",
       "Credit_Utilization_Ratio         0\n",
       "Credit_History_Age               0\n",
       "Payment_of_Min_Amount            0\n",
       "Total_EMI_per_month              0\n",
       "Amount_invested_monthly          0\n",
       "Payment_Behaviour                0\n",
       "Monthly_Balance                  0\n",
       "Credit_Score                     0\n",
       "Count_Auto Loan                  0\n",
       "Count_Credit-Builder Loan        0\n",
       "Count_Personal Loan              0\n",
       "Count_Home Equity Loan           0\n",
       "Count_Not Specified              0\n",
       "Count_Mortgage Loan              0\n",
       "Count_Student Loan               0\n",
       "Count_Debt Consolidation Loan    0\n",
       "Count_Payday Loan                0\n",
       "dtype: int64"
      ]
     },
     "execution_count": 149,
     "metadata": {},
     "output_type": "execute_result"
    }
   ],
   "source": [
    "# Checking null / NaN values\n",
    "df.isnull().sum()"
   ]
  },
  {
   "cell_type": "markdown",
   "metadata": {},
   "source": [
    "# **Scaling / Encoding Values:**\n",
    "Transforming values:\n",
    "Scaling is used for numerical data and Encoding for categorical data."
   ]
  },
  {
   "cell_type": "code",
   "execution_count": 150,
   "metadata": {
    "execution": {
     "iopub.execute_input": "2024-05-18T09:52:02.051829Z",
     "iopub.status.busy": "2024-05-18T09:52:02.051420Z",
     "iopub.status.idle": "2024-05-18T09:52:02.096779Z",
     "shell.execute_reply": "2024-05-18T09:52:02.095659Z",
     "shell.execute_reply.started": "2024-05-18T09:52:02.051797Z"
    }
   },
   "outputs": [],
   "source": [
    "# Printing Numerical data\n",
    "#for col in numerical_data:\n",
    "#    print(f\"{col}\")\n",
    "\n",
    "# Scaling values\n",
    "#df[numerical_data] = StandardScaler().fit_transform(df[numerical_data])"
   ]
  },
  {
   "cell_type": "code",
   "execution_count": 151,
   "metadata": {
    "execution": {
     "iopub.execute_input": "2024-05-18T09:52:02.099030Z",
     "iopub.status.busy": "2024-05-18T09:52:02.098597Z",
     "iopub.status.idle": "2024-05-18T09:52:02.126603Z",
     "shell.execute_reply": "2024-05-18T09:52:02.125856Z",
     "shell.execute_reply.started": "2024-05-18T09:52:02.098992Z"
    }
   },
   "outputs": [
    {
     "data": {
      "text/html": [
       "<div>\n",
       "<style scoped>\n",
       "    .dataframe tbody tr th:only-of-type {\n",
       "        vertical-align: middle;\n",
       "    }\n",
       "\n",
       "    .dataframe tbody tr th {\n",
       "        vertical-align: top;\n",
       "    }\n",
       "\n",
       "    .dataframe thead th {\n",
       "        text-align: right;\n",
       "    }\n",
       "</style>\n",
       "<table border=\"1\" class=\"dataframe\">\n",
       "  <thead>\n",
       "    <tr style=\"text-align: right;\">\n",
       "      <th></th>\n",
       "      <th>Month</th>\n",
       "      <th>Age</th>\n",
       "      <th>Occupation</th>\n",
       "      <th>Annual_Income</th>\n",
       "      <th>Monthly_Inhand_Salary</th>\n",
       "      <th>Num_Bank_Accounts</th>\n",
       "      <th>Num_Credit_Card</th>\n",
       "      <th>Interest_Rate</th>\n",
       "      <th>Delay_from_due_date</th>\n",
       "      <th>Num_of_Delayed_Payment</th>\n",
       "      <th>...</th>\n",
       "      <th>Credit_Score</th>\n",
       "      <th>Count_Auto Loan</th>\n",
       "      <th>Count_Credit-Builder Loan</th>\n",
       "      <th>Count_Personal Loan</th>\n",
       "      <th>Count_Home Equity Loan</th>\n",
       "      <th>Count_Not Specified</th>\n",
       "      <th>Count_Mortgage Loan</th>\n",
       "      <th>Count_Student Loan</th>\n",
       "      <th>Count_Debt Consolidation Loan</th>\n",
       "      <th>Count_Payday Loan</th>\n",
       "    </tr>\n",
       "  </thead>\n",
       "  <tbody>\n",
       "    <tr>\n",
       "      <th>0</th>\n",
       "      <td>July</td>\n",
       "      <td>23.0</td>\n",
       "      <td>Scientist</td>\n",
       "      <td>19114.12</td>\n",
       "      <td>1824.843333</td>\n",
       "      <td>3.0</td>\n",
       "      <td>4.0</td>\n",
       "      <td>3.0</td>\n",
       "      <td>3.0</td>\n",
       "      <td>8</td>\n",
       "      <td>...</td>\n",
       "      <td>Good</td>\n",
       "      <td>1.0</td>\n",
       "      <td>1.0</td>\n",
       "      <td>1.0</td>\n",
       "      <td>1.0</td>\n",
       "      <td>0.0</td>\n",
       "      <td>0</td>\n",
       "      <td>0</td>\n",
       "      <td>0</td>\n",
       "      <td>0</td>\n",
       "    </tr>\n",
       "    <tr>\n",
       "      <th>1</th>\n",
       "      <td>February</td>\n",
       "      <td>28.0</td>\n",
       "      <td>Teacher</td>\n",
       "      <td>34847.84</td>\n",
       "      <td>3037.986667</td>\n",
       "      <td>2.0</td>\n",
       "      <td>4.0</td>\n",
       "      <td>6.0</td>\n",
       "      <td>7.0</td>\n",
       "      <td>1</td>\n",
       "      <td>...</td>\n",
       "      <td>Good</td>\n",
       "      <td>0.0</td>\n",
       "      <td>1.0</td>\n",
       "      <td>0.0</td>\n",
       "      <td>0.0</td>\n",
       "      <td>0.0</td>\n",
       "      <td>0</td>\n",
       "      <td>0</td>\n",
       "      <td>0</td>\n",
       "      <td>0</td>\n",
       "    </tr>\n",
       "    <tr>\n",
       "      <th>2</th>\n",
       "      <td>May</td>\n",
       "      <td>28.0</td>\n",
       "      <td>Teacher</td>\n",
       "      <td>34847.84</td>\n",
       "      <td>3037.986667</td>\n",
       "      <td>2.0</td>\n",
       "      <td>4.0</td>\n",
       "      <td>6.0</td>\n",
       "      <td>3.0</td>\n",
       "      <td>1</td>\n",
       "      <td>...</td>\n",
       "      <td>Good</td>\n",
       "      <td>0.0</td>\n",
       "      <td>1.0</td>\n",
       "      <td>0.0</td>\n",
       "      <td>0.0</td>\n",
       "      <td>0.0</td>\n",
       "      <td>0</td>\n",
       "      <td>0</td>\n",
       "      <td>0</td>\n",
       "      <td>0</td>\n",
       "    </tr>\n",
       "    <tr>\n",
       "      <th>3</th>\n",
       "      <td>June</td>\n",
       "      <td>28.0</td>\n",
       "      <td>Teacher</td>\n",
       "      <td>34847.84</td>\n",
       "      <td>3037.986667</td>\n",
       "      <td>2.0</td>\n",
       "      <td>4.0</td>\n",
       "      <td>6.0</td>\n",
       "      <td>3.0</td>\n",
       "      <td>0</td>\n",
       "      <td>...</td>\n",
       "      <td>Good</td>\n",
       "      <td>0.0</td>\n",
       "      <td>1.0</td>\n",
       "      <td>0.0</td>\n",
       "      <td>0.0</td>\n",
       "      <td>0.0</td>\n",
       "      <td>0</td>\n",
       "      <td>0</td>\n",
       "      <td>0</td>\n",
       "      <td>0</td>\n",
       "    </tr>\n",
       "    <tr>\n",
       "      <th>4</th>\n",
       "      <td>August</td>\n",
       "      <td>28.0</td>\n",
       "      <td>Teacher</td>\n",
       "      <td>34847.84</td>\n",
       "      <td>3037.986667</td>\n",
       "      <td>2.0</td>\n",
       "      <td>4.0</td>\n",
       "      <td>6.0</td>\n",
       "      <td>3.0</td>\n",
       "      <td>4</td>\n",
       "      <td>...</td>\n",
       "      <td>Good</td>\n",
       "      <td>0.0</td>\n",
       "      <td>1.0</td>\n",
       "      <td>0.0</td>\n",
       "      <td>0.0</td>\n",
       "      <td>0.0</td>\n",
       "      <td>0</td>\n",
       "      <td>0</td>\n",
       "      <td>0</td>\n",
       "      <td>0</td>\n",
       "    </tr>\n",
       "  </tbody>\n",
       "</table>\n",
       "<p>5 rows × 31 columns</p>\n",
       "</div>"
      ],
      "text/plain": [
       "      Month   Age Occupation  Annual_Income  Monthly_Inhand_Salary  \\\n",
       "0      July  23.0  Scientist       19114.12            1824.843333   \n",
       "1  February  28.0    Teacher       34847.84            3037.986667   \n",
       "2       May  28.0    Teacher       34847.84            3037.986667   \n",
       "3      June  28.0    Teacher       34847.84            3037.986667   \n",
       "4    August  28.0    Teacher       34847.84            3037.986667   \n",
       "\n",
       "   Num_Bank_Accounts  Num_Credit_Card  Interest_Rate  Delay_from_due_date  \\\n",
       "0                3.0              4.0            3.0                  3.0   \n",
       "1                2.0              4.0            6.0                  7.0   \n",
       "2                2.0              4.0            6.0                  3.0   \n",
       "3                2.0              4.0            6.0                  3.0   \n",
       "4                2.0              4.0            6.0                  3.0   \n",
       "\n",
       "   Num_of_Delayed_Payment  ...  Credit_Score  Count_Auto Loan  \\\n",
       "0                       8  ...          Good              1.0   \n",
       "1                       1  ...          Good              0.0   \n",
       "2                       1  ...          Good              0.0   \n",
       "3                       0  ...          Good              0.0   \n",
       "4                       4  ...          Good              0.0   \n",
       "\n",
       "  Count_Credit-Builder Loan  Count_Personal Loan  Count_Home Equity Loan  \\\n",
       "0                       1.0                  1.0                     1.0   \n",
       "1                       1.0                  0.0                     0.0   \n",
       "2                       1.0                  0.0                     0.0   \n",
       "3                       1.0                  0.0                     0.0   \n",
       "4                       1.0                  0.0                     0.0   \n",
       "\n",
       "   Count_Not Specified Count_Mortgage Loan  Count_Student Loan  \\\n",
       "0                  0.0                   0                   0   \n",
       "1                  0.0                   0                   0   \n",
       "2                  0.0                   0                   0   \n",
       "3                  0.0                   0                   0   \n",
       "4                  0.0                   0                   0   \n",
       "\n",
       "   Count_Debt Consolidation Loan Count_Payday Loan  \n",
       "0                              0                 0  \n",
       "1                              0                 0  \n",
       "2                              0                 0  \n",
       "3                              0                 0  \n",
       "4                              0                 0  \n",
       "\n",
       "[5 rows x 31 columns]"
      ]
     },
     "execution_count": 151,
     "metadata": {},
     "output_type": "execute_result"
    }
   ],
   "source": [
    "# Checking results\n",
    "df.head()"
   ]
  },
  {
   "cell_type": "code",
   "execution_count": 152,
   "metadata": {
    "execution": {
     "iopub.execute_input": "2024-05-18T09:52:02.128566Z",
     "iopub.status.busy": "2024-05-18T09:52:02.127679Z",
     "iopub.status.idle": "2024-05-18T09:52:02.292721Z",
     "shell.execute_reply": "2024-05-18T09:52:02.291571Z",
     "shell.execute_reply.started": "2024-05-18T09:52:02.128536Z"
    }
   },
   "outputs": [
    {
     "name": "stdout",
     "output_type": "stream",
     "text": [
      "Index(['Month', 'Occupation', 'Credit_Mix', 'Payment_of_Min_Amount',\n",
      "       'Payment_Behaviour', 'Credit_Score'],\n",
      "      dtype='object')\n"
     ]
    }
   ],
   "source": [
    "# Checking categorical values\n",
    "print(categorical_data)\n",
    "\n",
    "# Including our target value in our Encoder\n",
    "categorical = list(categorical_data)\n",
    "categorical.append('Month')\n",
    "#categorical.append('Credit_Score')\n",
    "\n",
    "# Converting values Credit_Score:\n",
    "df['Credit_Score'] = df['Credit_Score'].map({\n",
    "    'Poor':0,\n",
    "    'Good':1,\n",
    "    'Standard':2\n",
    "})\n",
    "\n",
    "# Applying Encoder\n",
    "for col in categorical:\n",
    "    df[col] = LabelEncoder().fit_transform(df[col])"
   ]
  },
  {
   "cell_type": "code",
   "execution_count": 153,
   "metadata": {
    "execution": {
     "iopub.execute_input": "2024-05-18T09:52:02.294226Z",
     "iopub.status.busy": "2024-05-18T09:52:02.293857Z",
     "iopub.status.idle": "2024-05-18T09:52:02.318858Z",
     "shell.execute_reply": "2024-05-18T09:52:02.317701Z",
     "shell.execute_reply.started": "2024-05-18T09:52:02.294199Z"
    }
   },
   "outputs": [
    {
     "data": {
      "text/html": [
       "<div>\n",
       "<style scoped>\n",
       "    .dataframe tbody tr th:only-of-type {\n",
       "        vertical-align: middle;\n",
       "    }\n",
       "\n",
       "    .dataframe tbody tr th {\n",
       "        vertical-align: top;\n",
       "    }\n",
       "\n",
       "    .dataframe thead th {\n",
       "        text-align: right;\n",
       "    }\n",
       "</style>\n",
       "<table border=\"1\" class=\"dataframe\">\n",
       "  <thead>\n",
       "    <tr style=\"text-align: right;\">\n",
       "      <th></th>\n",
       "      <th>Month</th>\n",
       "      <th>Age</th>\n",
       "      <th>Occupation</th>\n",
       "      <th>Annual_Income</th>\n",
       "      <th>Monthly_Inhand_Salary</th>\n",
       "      <th>Num_Bank_Accounts</th>\n",
       "      <th>Num_Credit_Card</th>\n",
       "      <th>Interest_Rate</th>\n",
       "      <th>Delay_from_due_date</th>\n",
       "      <th>Num_of_Delayed_Payment</th>\n",
       "      <th>...</th>\n",
       "      <th>Credit_Score</th>\n",
       "      <th>Count_Auto Loan</th>\n",
       "      <th>Count_Credit-Builder Loan</th>\n",
       "      <th>Count_Personal Loan</th>\n",
       "      <th>Count_Home Equity Loan</th>\n",
       "      <th>Count_Not Specified</th>\n",
       "      <th>Count_Mortgage Loan</th>\n",
       "      <th>Count_Student Loan</th>\n",
       "      <th>Count_Debt Consolidation Loan</th>\n",
       "      <th>Count_Payday Loan</th>\n",
       "    </tr>\n",
       "  </thead>\n",
       "  <tbody>\n",
       "    <tr>\n",
       "      <th>33392</th>\n",
       "      <td>3</td>\n",
       "      <td>28.0</td>\n",
       "      <td>1</td>\n",
       "      <td>20002.88</td>\n",
       "      <td>1929.906667</td>\n",
       "      <td>10.0</td>\n",
       "      <td>8.0</td>\n",
       "      <td>29.0</td>\n",
       "      <td>35.0</td>\n",
       "      <td>26</td>\n",
       "      <td>...</td>\n",
       "      <td>0</td>\n",
       "      <td>1.0</td>\n",
       "      <td>0.0</td>\n",
       "      <td>1.0</td>\n",
       "      <td>0.0</td>\n",
       "      <td>0.0</td>\n",
       "      <td>1</td>\n",
       "      <td>2</td>\n",
       "      <td>0</td>\n",
       "      <td>0</td>\n",
       "    </tr>\n",
       "    <tr>\n",
       "      <th>33393</th>\n",
       "      <td>2</td>\n",
       "      <td>28.0</td>\n",
       "      <td>1</td>\n",
       "      <td>20002.88</td>\n",
       "      <td>1929.906667</td>\n",
       "      <td>10.0</td>\n",
       "      <td>8.0</td>\n",
       "      <td>29.0</td>\n",
       "      <td>33.0</td>\n",
       "      <td>25</td>\n",
       "      <td>...</td>\n",
       "      <td>0</td>\n",
       "      <td>1.0</td>\n",
       "      <td>0.0</td>\n",
       "      <td>1.0</td>\n",
       "      <td>0.0</td>\n",
       "      <td>0.0</td>\n",
       "      <td>1</td>\n",
       "      <td>2</td>\n",
       "      <td>0</td>\n",
       "      <td>0</td>\n",
       "    </tr>\n",
       "    <tr>\n",
       "      <th>33394</th>\n",
       "      <td>4</td>\n",
       "      <td>28.0</td>\n",
       "      <td>1</td>\n",
       "      <td>20002.88</td>\n",
       "      <td>1929.906667</td>\n",
       "      <td>10.0</td>\n",
       "      <td>8.0</td>\n",
       "      <td>29.0</td>\n",
       "      <td>33.0</td>\n",
       "      <td>26</td>\n",
       "      <td>...</td>\n",
       "      <td>2</td>\n",
       "      <td>1.0</td>\n",
       "      <td>0.0</td>\n",
       "      <td>1.0</td>\n",
       "      <td>0.0</td>\n",
       "      <td>0.0</td>\n",
       "      <td>1</td>\n",
       "      <td>2</td>\n",
       "      <td>0</td>\n",
       "      <td>0</td>\n",
       "    </tr>\n",
       "    <tr>\n",
       "      <th>33395</th>\n",
       "      <td>1</td>\n",
       "      <td>29.0</td>\n",
       "      <td>1</td>\n",
       "      <td>20002.88</td>\n",
       "      <td>1929.906667</td>\n",
       "      <td>10.0</td>\n",
       "      <td>8.0</td>\n",
       "      <td>29.0</td>\n",
       "      <td>33.0</td>\n",
       "      <td>25</td>\n",
       "      <td>...</td>\n",
       "      <td>2</td>\n",
       "      <td>1.0</td>\n",
       "      <td>0.0</td>\n",
       "      <td>1.0</td>\n",
       "      <td>0.0</td>\n",
       "      <td>0.0</td>\n",
       "      <td>1</td>\n",
       "      <td>2</td>\n",
       "      <td>0</td>\n",
       "      <td>0</td>\n",
       "    </tr>\n",
       "    <tr>\n",
       "      <th>33396</th>\n",
       "      <td>5</td>\n",
       "      <td>25.0</td>\n",
       "      <td>9</td>\n",
       "      <td>39628.99</td>\n",
       "      <td>3359.415833</td>\n",
       "      <td>4.0</td>\n",
       "      <td>6.0</td>\n",
       "      <td>5729.0</td>\n",
       "      <td>27.0</td>\n",
       "      <td>6</td>\n",
       "      <td>...</td>\n",
       "      <td>0</td>\n",
       "      <td>1.0</td>\n",
       "      <td>0.0</td>\n",
       "      <td>0.0</td>\n",
       "      <td>0.0</td>\n",
       "      <td>0.0</td>\n",
       "      <td>0</td>\n",
       "      <td>1</td>\n",
       "      <td>0</td>\n",
       "      <td>0</td>\n",
       "    </tr>\n",
       "  </tbody>\n",
       "</table>\n",
       "<p>5 rows × 31 columns</p>\n",
       "</div>"
      ],
      "text/plain": [
       "       Month   Age  Occupation  Annual_Income  Monthly_Inhand_Salary  \\\n",
       "33392      3  28.0           1       20002.88            1929.906667   \n",
       "33393      2  28.0           1       20002.88            1929.906667   \n",
       "33394      4  28.0           1       20002.88            1929.906667   \n",
       "33395      1  29.0           1       20002.88            1929.906667   \n",
       "33396      5  25.0           9       39628.99            3359.415833   \n",
       "\n",
       "       Num_Bank_Accounts  Num_Credit_Card  Interest_Rate  Delay_from_due_date  \\\n",
       "33392               10.0              8.0           29.0                 35.0   \n",
       "33393               10.0              8.0           29.0                 33.0   \n",
       "33394               10.0              8.0           29.0                 33.0   \n",
       "33395               10.0              8.0           29.0                 33.0   \n",
       "33396                4.0              6.0         5729.0                 27.0   \n",
       "\n",
       "       Num_of_Delayed_Payment  ...  Credit_Score  Count_Auto Loan  \\\n",
       "33392                      26  ...             0              1.0   \n",
       "33393                      25  ...             0              1.0   \n",
       "33394                      26  ...             2              1.0   \n",
       "33395                      25  ...             2              1.0   \n",
       "33396                       6  ...             0              1.0   \n",
       "\n",
       "       Count_Credit-Builder Loan  Count_Personal Loan  Count_Home Equity Loan  \\\n",
       "33392                        0.0                  1.0                     0.0   \n",
       "33393                        0.0                  1.0                     0.0   \n",
       "33394                        0.0                  1.0                     0.0   \n",
       "33395                        0.0                  1.0                     0.0   \n",
       "33396                        0.0                  0.0                     0.0   \n",
       "\n",
       "       Count_Not Specified  Count_Mortgage Loan  Count_Student Loan  \\\n",
       "33392                  0.0                    1                   2   \n",
       "33393                  0.0                    1                   2   \n",
       "33394                  0.0                    1                   2   \n",
       "33395                  0.0                    1                   2   \n",
       "33396                  0.0                    0                   1   \n",
       "\n",
       "       Count_Debt Consolidation Loan  Count_Payday Loan  \n",
       "33392                              0                  0  \n",
       "33393                              0                  0  \n",
       "33394                              0                  0  \n",
       "33395                              0                  0  \n",
       "33396                              0                  0  \n",
       "\n",
       "[5 rows x 31 columns]"
      ]
     },
     "execution_count": 153,
     "metadata": {},
     "output_type": "execute_result"
    }
   ],
   "source": [
    "df.tail()"
   ]
  },
  {
   "cell_type": "markdown",
   "metadata": {},
   "source": [
    "# Spliting our data : Training and Test"
   ]
  },
  {
   "cell_type": "code",
   "execution_count": 154,
   "metadata": {
    "execution": {
     "iopub.execute_input": "2024-05-18T09:52:02.321020Z",
     "iopub.status.busy": "2024-05-18T09:52:02.320484Z",
     "iopub.status.idle": "2024-05-18T09:52:02.337740Z",
     "shell.execute_reply": "2024-05-18T09:52:02.336646Z",
     "shell.execute_reply.started": "2024-05-18T09:52:02.320971Z"
    }
   },
   "outputs": [],
   "source": [
    "# Selecting values\n",
    "X = df.drop('Credit_Score', axis=1)\n",
    "y = df['Credit_Score']"
   ]
  },
  {
   "cell_type": "code",
   "execution_count": 155,
   "metadata": {
    "execution": {
     "iopub.execute_input": "2024-05-18T09:52:02.339617Z",
     "iopub.status.busy": "2024-05-18T09:52:02.338986Z",
     "iopub.status.idle": "2024-05-18T09:52:02.387637Z",
     "shell.execute_reply": "2024-05-18T09:52:02.386320Z",
     "shell.execute_reply.started": "2024-05-18T09:52:02.339572Z"
    }
   },
   "outputs": [],
   "source": [
    "# Spliting into training and testing\n",
    "X_train, X_test, y_train, y_test = train_test_split(X,y,test_size=0.2, random_state = 1)"
   ]
  },
  {
   "cell_type": "markdown",
   "metadata": {},
   "source": [
    "# Creating our SVC Model"
   ]
  },
  {
   "cell_type": "code",
   "execution_count": 156,
   "metadata": {
    "execution": {
     "iopub.execute_input": "2024-05-18T09:52:02.390047Z",
     "iopub.status.busy": "2024-05-18T09:52:02.389453Z",
     "iopub.status.idle": "2024-05-18T09:52:02.394829Z",
     "shell.execute_reply": "2024-05-18T09:52:02.393753Z",
     "shell.execute_reply.started": "2024-05-18T09:52:02.390016Z"
    }
   },
   "outputs": [],
   "source": [
    "# Applying pipeline\n",
    "pipeline = Pipeline([\n",
    "    ('scaler', StandardScaler()), \n",
    "    ('svc', SVC())\n",
    "])"
   ]
  },
  {
   "cell_type": "code",
   "execution_count": 157,
   "metadata": {
    "execution": {
     "iopub.execute_input": "2024-05-18T09:52:02.396433Z",
     "iopub.status.busy": "2024-05-18T09:52:02.396063Z",
     "iopub.status.idle": "2024-05-18T09:52:02.404225Z",
     "shell.execute_reply": "2024-05-18T09:52:02.403355Z",
     "shell.execute_reply.started": "2024-05-18T09:52:02.396396Z"
    }
   },
   "outputs": [],
   "source": [
    "param_grid = {\n",
    "    'svc__kernel': ['rbf', 'linear'],\n",
    "    'svc__C': [0.01, 10, 20]\n",
    "}\n"
   ]
  },
  {
   "cell_type": "code",
   "execution_count": 159,
   "metadata": {
    "execution": {
     "iopub.execute_input": "2024-05-18T09:52:02.406409Z",
     "iopub.status.busy": "2024-05-18T09:52:02.405505Z",
     "iopub.status.idle": "2024-05-18T09:52:02.415706Z",
     "shell.execute_reply": "2024-05-18T09:52:02.414564Z",
     "shell.execute_reply.started": "2024-05-18T09:52:02.406370Z"
    }
   },
   "outputs": [],
   "source": [
    "n_iter_search = 6  # Number of hyperparameter combinations to try\n",
    "\n",
    "random_search = RandomizedSearchCV(pipeline, \n",
    "                                   param_distributions=param_grid,\n",
    "                                   n_iter=n_iter_search,\n",
    "                                   cv=3,\n",
    "                                   n_jobs=-1,\n",
    "                                   scoring='accuracy',\n",
    "                                   random_state=1)\n",
    "\n"
   ]
  },
  {
   "cell_type": "code",
   "execution_count": 160,
   "metadata": {
    "execution": {
     "iopub.execute_input": "2024-05-18T09:52:02.417375Z",
     "iopub.status.busy": "2024-05-18T09:52:02.416968Z"
    }
   },
   "outputs": [
    {
     "name": "stdout",
     "output_type": "stream",
     "text": [
      "Best parameters found:  {'svc__kernel': 'rbf', 'svc__C': 10}\n"
     ]
    }
   ],
   "source": [
    "random_search.fit(X_train, y_train)\n",
    "\n",
    "# Get the best parameters\n",
    "best_params = random_search.best_params_\n",
    "print(\"Best parameters found: \", best_params)"
   ]
  },
  {
   "cell_type": "code",
   "execution_count": 161,
   "metadata": {},
   "outputs": [
    {
     "name": "stdout",
     "output_type": "stream",
     "text": [
      "Test set accuracy:  0.6901197604790419\n"
     ]
    }
   ],
   "source": [
    "# Predict on the test set\n",
    "y_pred = random_search.predict(X_test)\n",
    "\n",
    "# Calculate accuracy\n",
    "accuracy = accuracy_score(y_test, y_pred)\n",
    "print(\"Test set accuracy: \", accuracy)\n"
   ]
  },
  {
   "cell_type": "code",
   "execution_count": 162,
   "metadata": {},
   "outputs": [
    {
     "data": {
      "text/plain": [
       "['best_svm_model.pkl']"
      ]
     },
     "execution_count": 162,
     "metadata": {},
     "output_type": "execute_result"
    }
   ],
   "source": [
    "best_model = random_search.best_estimator_\n",
    "best_model.fit(X, y)\n",
    "joblib.dump(best_model, 'best_svm_model.pkl')\n"
   ]
  },
  {
   "cell_type": "code",
   "execution_count": 169,
   "metadata": {},
   "outputs": [],
   "source": [
    "# Getting unique values\n",
    "unique_classes = {}\n",
    "for col in categorical_data:\n",
    "    unique_classes[col] = df[col].unique()"
   ]
  },
  {
   "cell_type": "code",
   "execution_count": 170,
   "metadata": {},
   "outputs": [
    {
     "name": "stdout",
     "output_type": "stream",
     "text": [
      "Column: Month\n",
      "Unique Values: [4 2 7 5 1 3 0 6]\n",
      "Column: Occupation\n",
      "Unique Values: [12 13  4  5  7  3  6  8 10  9  0  1 11 14  2]\n",
      "Column: Credit_Mix\n",
      "Unique Values: [1 2 0]\n",
      "Column: Payment_of_Min_Amount\n",
      "Unique Values: [0 1]\n",
      "Column: Payment_Behaviour\n",
      "Unique Values: [5 0 1 2 3 4]\n",
      "Column: Credit_Score\n",
      "Unique Values: [1 2 0]\n"
     ]
    }
   ],
   "source": [
    "for key, value in unique_classes.items():\n",
    "    print(\"Column:\", key)\n",
    "    print(\"Unique Values:\", value)"
   ]
  },
  {
   "cell_type": "code",
   "execution_count": 171,
   "metadata": {},
   "outputs": [
    {
     "data": {
      "text/html": [
       "<div>\n",
       "<style scoped>\n",
       "    .dataframe tbody tr th:only-of-type {\n",
       "        vertical-align: middle;\n",
       "    }\n",
       "\n",
       "    .dataframe tbody tr th {\n",
       "        vertical-align: top;\n",
       "    }\n",
       "\n",
       "    .dataframe thead th {\n",
       "        text-align: right;\n",
       "    }\n",
       "</style>\n",
       "<table border=\"1\" class=\"dataframe\">\n",
       "  <thead>\n",
       "    <tr style=\"text-align: right;\">\n",
       "      <th></th>\n",
       "      <th>Month</th>\n",
       "      <th>Age</th>\n",
       "      <th>Occupation</th>\n",
       "      <th>Annual_Income</th>\n",
       "      <th>Monthly_Inhand_Salary</th>\n",
       "      <th>Num_Bank_Accounts</th>\n",
       "      <th>Num_Credit_Card</th>\n",
       "      <th>Interest_Rate</th>\n",
       "      <th>Delay_from_due_date</th>\n",
       "      <th>Num_of_Delayed_Payment</th>\n",
       "      <th>...</th>\n",
       "      <th>Monthly_Balance</th>\n",
       "      <th>Count_Auto Loan</th>\n",
       "      <th>Count_Credit-Builder Loan</th>\n",
       "      <th>Count_Personal Loan</th>\n",
       "      <th>Count_Home Equity Loan</th>\n",
       "      <th>Count_Not Specified</th>\n",
       "      <th>Count_Mortgage Loan</th>\n",
       "      <th>Count_Student Loan</th>\n",
       "      <th>Count_Debt Consolidation Loan</th>\n",
       "      <th>Count_Payday Loan</th>\n",
       "    </tr>\n",
       "  </thead>\n",
       "  <tbody>\n",
       "    <tr>\n",
       "      <th>19365</th>\n",
       "      <td>0</td>\n",
       "      <td>22.0</td>\n",
       "      <td>2</td>\n",
       "      <td>14274.32</td>\n",
       "      <td>907.526667</td>\n",
       "      <td>4.0</td>\n",
       "      <td>4.0</td>\n",
       "      <td>12.0</td>\n",
       "      <td>14.0</td>\n",
       "      <td>9</td>\n",
       "      <td>...</td>\n",
       "      <td>254.752820</td>\n",
       "      <td>0.0</td>\n",
       "      <td>0.0</td>\n",
       "      <td>0.0</td>\n",
       "      <td>0.0</td>\n",
       "      <td>0.0</td>\n",
       "      <td>1</td>\n",
       "      <td>0</td>\n",
       "      <td>2</td>\n",
       "      <td>0</td>\n",
       "    </tr>\n",
       "    <tr>\n",
       "      <th>9182</th>\n",
       "      <td>0</td>\n",
       "      <td>20.0</td>\n",
       "      <td>5</td>\n",
       "      <td>29892.37</td>\n",
       "      <td>2664.030833</td>\n",
       "      <td>7.0</td>\n",
       "      <td>3.0</td>\n",
       "      <td>13.0</td>\n",
       "      <td>7.0</td>\n",
       "      <td>8</td>\n",
       "      <td>...</td>\n",
       "      <td>304.521176</td>\n",
       "      <td>0.0</td>\n",
       "      <td>2.0</td>\n",
       "      <td>0.0</td>\n",
       "      <td>0.0</td>\n",
       "      <td>0.0</td>\n",
       "      <td>0</td>\n",
       "      <td>0</td>\n",
       "      <td>0</td>\n",
       "      <td>0</td>\n",
       "    </tr>\n",
       "    <tr>\n",
       "      <th>31865</th>\n",
       "      <td>6</td>\n",
       "      <td>51.0</td>\n",
       "      <td>3</td>\n",
       "      <td>24251.49</td>\n",
       "      <td>1991.957500</td>\n",
       "      <td>8.0</td>\n",
       "      <td>4.0</td>\n",
       "      <td>14.0</td>\n",
       "      <td>24.0</td>\n",
       "      <td>20</td>\n",
       "      <td>...</td>\n",
       "      <td>357.181612</td>\n",
       "      <td>0.0</td>\n",
       "      <td>0.0</td>\n",
       "      <td>0.0</td>\n",
       "      <td>0.0</td>\n",
       "      <td>0.0</td>\n",
       "      <td>0</td>\n",
       "      <td>1</td>\n",
       "      <td>0</td>\n",
       "      <td>0</td>\n",
       "    </tr>\n",
       "    <tr>\n",
       "      <th>13707</th>\n",
       "      <td>0</td>\n",
       "      <td>37.0</td>\n",
       "      <td>1</td>\n",
       "      <td>28496.30</td>\n",
       "      <td>2357.691667</td>\n",
       "      <td>7.0</td>\n",
       "      <td>10.0</td>\n",
       "      <td>21.0</td>\n",
       "      <td>12.0</td>\n",
       "      <td>20</td>\n",
       "      <td>...</td>\n",
       "      <td>392.815039</td>\n",
       "      <td>0.0</td>\n",
       "      <td>0.0</td>\n",
       "      <td>0.0</td>\n",
       "      <td>0.0</td>\n",
       "      <td>0.0</td>\n",
       "      <td>1</td>\n",
       "      <td>0</td>\n",
       "      <td>0</td>\n",
       "      <td>1</td>\n",
       "    </tr>\n",
       "    <tr>\n",
       "      <th>8351</th>\n",
       "      <td>0</td>\n",
       "      <td>25.0</td>\n",
       "      <td>11</td>\n",
       "      <td>15701.03</td>\n",
       "      <td>1213.419167</td>\n",
       "      <td>8.0</td>\n",
       "      <td>10.0</td>\n",
       "      <td>30.0</td>\n",
       "      <td>22.0</td>\n",
       "      <td>20</td>\n",
       "      <td>...</td>\n",
       "      <td>251.209978</td>\n",
       "      <td>2.0</td>\n",
       "      <td>0.0</td>\n",
       "      <td>1.0</td>\n",
       "      <td>1.0</td>\n",
       "      <td>0.0</td>\n",
       "      <td>1</td>\n",
       "      <td>0</td>\n",
       "      <td>2</td>\n",
       "      <td>2</td>\n",
       "    </tr>\n",
       "  </tbody>\n",
       "</table>\n",
       "<p>5 rows × 30 columns</p>\n",
       "</div>"
      ],
      "text/plain": [
       "       Month   Age  Occupation  Annual_Income  Monthly_Inhand_Salary  \\\n",
       "19365      0  22.0           2       14274.32             907.526667   \n",
       "9182       0  20.0           5       29892.37            2664.030833   \n",
       "31865      6  51.0           3       24251.49            1991.957500   \n",
       "13707      0  37.0           1       28496.30            2357.691667   \n",
       "8351       0  25.0          11       15701.03            1213.419167   \n",
       "\n",
       "       Num_Bank_Accounts  Num_Credit_Card  Interest_Rate  Delay_from_due_date  \\\n",
       "19365                4.0              4.0           12.0                 14.0   \n",
       "9182                 7.0              3.0           13.0                  7.0   \n",
       "31865                8.0              4.0           14.0                 24.0   \n",
       "13707                7.0             10.0           21.0                 12.0   \n",
       "8351                 8.0             10.0           30.0                 22.0   \n",
       "\n",
       "       Num_of_Delayed_Payment  ...  Monthly_Balance  Count_Auto Loan  \\\n",
       "19365                       9  ...       254.752820              0.0   \n",
       "9182                        8  ...       304.521176              0.0   \n",
       "31865                      20  ...       357.181612              0.0   \n",
       "13707                      20  ...       392.815039              0.0   \n",
       "8351                       20  ...       251.209978              2.0   \n",
       "\n",
       "       Count_Credit-Builder Loan  Count_Personal Loan  Count_Home Equity Loan  \\\n",
       "19365                        0.0                  0.0                     0.0   \n",
       "9182                         2.0                  0.0                     0.0   \n",
       "31865                        0.0                  0.0                     0.0   \n",
       "13707                        0.0                  0.0                     0.0   \n",
       "8351                         0.0                  1.0                     1.0   \n",
       "\n",
       "       Count_Not Specified  Count_Mortgage Loan  Count_Student Loan  \\\n",
       "19365                  0.0                    1                   0   \n",
       "9182                   0.0                    0                   0   \n",
       "31865                  0.0                    0                   1   \n",
       "13707                  0.0                    1                   0   \n",
       "8351                   0.0                    1                   0   \n",
       "\n",
       "       Count_Debt Consolidation Loan  Count_Payday Loan  \n",
       "19365                              2                  0  \n",
       "9182                               0                  0  \n",
       "31865                              0                  0  \n",
       "13707                              0                  1  \n",
       "8351                               2                  2  \n",
       "\n",
       "[5 rows x 30 columns]"
      ]
     },
     "execution_count": 171,
     "metadata": {},
     "output_type": "execute_result"
    }
   ],
   "source": [
    "X_train.head()"
   ]
  },
  {
   "cell_type": "code",
   "execution_count": null,
   "metadata": {},
   "outputs": [],
   "source": []
  }
 ],
 "metadata": {
  "kaggle": {
   "accelerator": "none",
   "dataSources": [
    {
     "datasetId": 2289007,
     "sourceId": 3846912,
     "sourceType": "datasetVersion"
    }
   ],
   "dockerImageVersionId": 30698,
   "isGpuEnabled": false,
   "isInternetEnabled": false,
   "language": "python",
   "sourceType": "notebook"
  },
  "kernelspec": {
   "display_name": "Python (my_project_env)",
   "language": "python",
   "name": "my_project_env"
  },
  "language_info": {
   "codemirror_mode": {
    "name": "ipython",
    "version": 3
   },
   "file_extension": ".py",
   "mimetype": "text/x-python",
   "name": "python",
   "nbconvert_exporter": "python",
   "pygments_lexer": "ipython3",
   "version": "3.11.5"
  }
 },
 "nbformat": 4,
 "nbformat_minor": 4
}
